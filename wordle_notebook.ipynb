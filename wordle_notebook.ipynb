{
 "cells": [
  {
   "cell_type": "code",
   "execution_count": 1,
   "id": "eef68db2",
   "metadata": {},
   "outputs": [
    {
     "name": "stderr",
     "output_type": "stream",
     "text": [
      "[nltk_data] Downloading package words to\n",
      "[nltk_data]     /Users/evanagovino/nltk_data...\n",
      "[nltk_data]   Package words is already up-to-date!\n",
      "[nltk_data] Downloading package brown to\n",
      "[nltk_data]     /Users/evanagovino/nltk_data...\n",
      "[nltk_data]   Package brown is already up-to-date!\n"
     ]
    }
   ],
   "source": [
    "import nltk\n",
    "from nltk.corpus import words, brown\n",
    "import string\n",
    "import random\n",
    "import pandas as pd\n",
    "import numpy as np\n",
    "import matplotlib.pyplot as plt\n",
    "import seaborn as sns\n",
    "nltk.download('words')\n",
    "nltk.download('brown')\n",
    "%matplotlib inline"
   ]
  },
  {
   "cell_type": "markdown",
   "id": "6433388d",
   "metadata": {},
   "source": [
    "## Create Corpus"
   ]
  },
  {
   "cell_type": "code",
   "execution_count": 2,
   "id": "a3b4d7d3",
   "metadata": {},
   "outputs": [],
   "source": [
    "word_list_words = list(words.words())\n",
    "word_list_brown = list(brown.words())\n",
    "five_letter_words_words = list(set([i.lower() for i in word_list_words if len(i) == 5 and i.isalpha()]))\n",
    "five_letter_words_brown = [i.lower() for i in word_list_brown if len(i) == 5 and i.isalpha() and i in five_letter_words_words]"
   ]
  },
  {
   "cell_type": "code",
   "execution_count": 3,
   "id": "3fa0bbc8",
   "metadata": {},
   "outputs": [],
   "source": [
    "df = pd.DataFrame()\n",
    "df['words'] = five_letter_words_brown\n",
    "df = df['words'].value_counts().reset_index()\n",
    "df.columns = ['word', 'frequency']"
   ]
  },
  {
   "cell_type": "code",
   "execution_count": 4,
   "id": "a7009d4c",
   "metadata": {},
   "outputs": [
    {
     "data": {
      "text/html": [
       "<div>\n",
       "<style scoped>\n",
       "    .dataframe tbody tr th:only-of-type {\n",
       "        vertical-align: middle;\n",
       "    }\n",
       "\n",
       "    .dataframe tbody tr th {\n",
       "        vertical-align: top;\n",
       "    }\n",
       "\n",
       "    .dataframe thead th {\n",
       "        text-align: right;\n",
       "    }\n",
       "</style>\n",
       "<table border=\"1\" class=\"dataframe\">\n",
       "  <thead>\n",
       "    <tr style=\"text-align: right;\">\n",
       "      <th></th>\n",
       "      <th>word</th>\n",
       "      <th>frequency</th>\n",
       "    </tr>\n",
       "  </thead>\n",
       "  <tbody>\n",
       "    <tr>\n",
       "      <th>1111</th>\n",
       "      <td>dizzy</td>\n",
       "      <td>4</td>\n",
       "    </tr>\n",
       "    <tr>\n",
       "      <th>1112</th>\n",
       "      <td>weigh</td>\n",
       "      <td>4</td>\n",
       "    </tr>\n",
       "    <tr>\n",
       "      <th>1113</th>\n",
       "      <td>tutor</td>\n",
       "      <td>4</td>\n",
       "    </tr>\n",
       "    <tr>\n",
       "      <th>1114</th>\n",
       "      <td>scarf</td>\n",
       "      <td>4</td>\n",
       "    </tr>\n",
       "    <tr>\n",
       "      <th>1115</th>\n",
       "      <td>verve</td>\n",
       "      <td>4</td>\n",
       "    </tr>\n",
       "    <tr>\n",
       "      <th>1116</th>\n",
       "      <td>freak</td>\n",
       "      <td>4</td>\n",
       "    </tr>\n",
       "    <tr>\n",
       "      <th>1117</th>\n",
       "      <td>altar</td>\n",
       "      <td>4</td>\n",
       "    </tr>\n",
       "    <tr>\n",
       "      <th>1118</th>\n",
       "      <td>adept</td>\n",
       "      <td>4</td>\n",
       "    </tr>\n",
       "    <tr>\n",
       "      <th>1119</th>\n",
       "      <td>growl</td>\n",
       "      <td>4</td>\n",
       "    </tr>\n",
       "    <tr>\n",
       "      <th>1120</th>\n",
       "      <td>dryly</td>\n",
       "      <td>4</td>\n",
       "    </tr>\n",
       "  </tbody>\n",
       "</table>\n",
       "</div>"
      ],
      "text/plain": [
       "       word  frequency\n",
       "1111  dizzy          4\n",
       "1112  weigh          4\n",
       "1113  tutor          4\n",
       "1114  scarf          4\n",
       "1115  verve          4\n",
       "1116  freak          4\n",
       "1117  altar          4\n",
       "1118  adept          4\n",
       "1119  growl          4\n",
       "1120  dryly          4"
      ]
     },
     "execution_count": 4,
     "metadata": {},
     "output_type": "execute_result"
    }
   ],
   "source": [
    "df[df['frequency'] > 3].tail(10)"
   ]
  },
  {
   "cell_type": "code",
   "execution_count": 5,
   "id": "835ec441",
   "metadata": {},
   "outputs": [
    {
     "data": {
      "text/html": [
       "<div>\n",
       "<style scoped>\n",
       "    .dataframe tbody tr th:only-of-type {\n",
       "        vertical-align: middle;\n",
       "    }\n",
       "\n",
       "    .dataframe tbody tr th {\n",
       "        vertical-align: top;\n",
       "    }\n",
       "\n",
       "    .dataframe thead th {\n",
       "        text-align: right;\n",
       "    }\n",
       "</style>\n",
       "<table border=\"1\" class=\"dataframe\">\n",
       "  <thead>\n",
       "    <tr style=\"text-align: right;\">\n",
       "      <th></th>\n",
       "      <th>word</th>\n",
       "      <th>frequency</th>\n",
       "    </tr>\n",
       "  </thead>\n",
       "  <tbody>\n",
       "    <tr>\n",
       "      <th>1922</th>\n",
       "      <td>thine</td>\n",
       "      <td>1</td>\n",
       "    </tr>\n",
       "    <tr>\n",
       "      <th>1923</th>\n",
       "      <td>stunt</td>\n",
       "      <td>1</td>\n",
       "    </tr>\n",
       "    <tr>\n",
       "      <th>1924</th>\n",
       "      <td>limbo</td>\n",
       "      <td>1</td>\n",
       "    </tr>\n",
       "    <tr>\n",
       "      <th>1925</th>\n",
       "      <td>toxin</td>\n",
       "      <td>1</td>\n",
       "    </tr>\n",
       "    <tr>\n",
       "      <th>1926</th>\n",
       "      <td>tilth</td>\n",
       "      <td>1</td>\n",
       "    </tr>\n",
       "    <tr>\n",
       "      <th>1927</th>\n",
       "      <td>cilia</td>\n",
       "      <td>1</td>\n",
       "    </tr>\n",
       "    <tr>\n",
       "      <th>1928</th>\n",
       "      <td>leggy</td>\n",
       "      <td>1</td>\n",
       "    </tr>\n",
       "    <tr>\n",
       "      <th>1929</th>\n",
       "      <td>meaty</td>\n",
       "      <td>1</td>\n",
       "    </tr>\n",
       "    <tr>\n",
       "      <th>1930</th>\n",
       "      <td>peaky</td>\n",
       "      <td>1</td>\n",
       "    </tr>\n",
       "    <tr>\n",
       "      <th>1931</th>\n",
       "      <td>fluke</td>\n",
       "      <td>1</td>\n",
       "    </tr>\n",
       "  </tbody>\n",
       "</table>\n",
       "</div>"
      ],
      "text/plain": [
       "       word  frequency\n",
       "1922  thine          1\n",
       "1923  stunt          1\n",
       "1924  limbo          1\n",
       "1925  toxin          1\n",
       "1926  tilth          1\n",
       "1927  cilia          1\n",
       "1928  leggy          1\n",
       "1929  meaty          1\n",
       "1930  peaky          1\n",
       "1931  fluke          1"
      ]
     },
     "execution_count": 5,
     "metadata": {},
     "output_type": "execute_result"
    }
   ],
   "source": [
    "df[df['frequency'] == 1].tail(10)"
   ]
  },
  {
   "cell_type": "code",
   "execution_count": 6,
   "id": "a71f9263",
   "metadata": {},
   "outputs": [],
   "source": [
    "five_letter_words = list(df[df['frequency'] >= 4]['word'])"
   ]
  },
  {
   "cell_type": "markdown",
   "id": "cb698ac4",
   "metadata": {},
   "source": [
    "## Wordle + Corpus Functions"
   ]
  },
  {
   "cell_type": "code",
   "execution_count": 7,
   "id": "45879fb2",
   "metadata": {},
   "outputs": [],
   "source": [
    "class Wordle():\n",
    "\n",
    "    def __init__(self, answer):\n",
    "        self.answer = list(answer)\n",
    "        self.set_values = [''] * len(self.answer)\n",
    "        self.disregarded_letters = []\n",
    "        self.letters_without_placements = {}\n",
    "        \n",
    "    def clean(self):\n",
    "        for letter in list(self.letters_without_placements):\n",
    "            if letter in self.set_values:\n",
    "                self.letters_without_placements.pop(letter, None)\n",
    "\n",
    "    def make_guess(self, guess, print_results=True, corpus=None):\n",
    "        assert len(guess) == len(self.answer), 'Guess must have same number of words as answer!'\n",
    "        if corpus:\n",
    "            assert guess in corpus, 'Guess is not a word!'\n",
    "        for position, value in enumerate(guess):\n",
    "            if value == self.answer[position]:\n",
    "                self.set_values[position] = value\n",
    "            elif value in self.answer:\n",
    "                if value in self.letters_without_placements:\n",
    "                    if position not in self.letters_without_placements[value]:\n",
    "                        self.letters_without_placements[value].append(position)\n",
    "                else:\n",
    "                    self.letters_without_placements[value] = [position]\n",
    "            elif value not in self.disregarded_letters:\n",
    "                self.disregarded_letters.append(value)\n",
    "        self.clean()\n",
    "        if print_results:\n",
    "            print('')\n",
    "            print(f'Guess: {guess}')\n",
    "            print('Confirmed Values:', self.set_values)\n",
    "            print('Confirmed Letters Not in Word', self.disregarded_letters)\n",
    "            print('Confirmed Letters In Word, Not At Position', self.letters_without_placements)\n",
    "            print('')\n",
    "        return self.set_values, self.disregarded_letters, self.letters_without_placements\n"
   ]
  },
  {
   "cell_type": "code",
   "execution_count": 8,
   "id": "251c2c0c",
   "metadata": {},
   "outputs": [
    {
     "name": "stdout",
     "output_type": "stream",
     "text": [
      "\n",
      "Guess: meats\n",
      "Confirmed Values: ['', '', '', '', '']\n",
      "Confirmed Letters Not in Word ['m', 's']\n",
      "Confirmed Letters In Word, Not At Position {'e': [1], 'a': [2], 't': [3]}\n",
      "\n"
     ]
    },
    {
     "data": {
      "text/plain": [
       "(['', '', '', '', ''], ['m', 's'], {'e': [1], 'a': [2], 't': [3]})"
      ]
     },
     "execution_count": 8,
     "metadata": {},
     "output_type": "execute_result"
    }
   ],
   "source": [
    "w = Wordle('treat')\n",
    "w.make_guess('meats')"
   ]
  },
  {
   "cell_type": "code",
   "execution_count": 9,
   "id": "1c992314",
   "metadata": {},
   "outputs": [
    {
     "name": "stdout",
     "output_type": "stream",
     "text": [
      "\n",
      "Guess: steam\n",
      "Confirmed Values: ['', '', 'e', 'a', '']\n",
      "Confirmed Letters Not in Word ['m', 's']\n",
      "Confirmed Letters In Word, Not At Position {'t': [3, 1]}\n",
      "\n"
     ]
    },
    {
     "data": {
      "text/plain": [
       "(['', '', 'e', 'a', ''], ['m', 's'], {'t': [3, 1]})"
      ]
     },
     "execution_count": 9,
     "metadata": {},
     "output_type": "execute_result"
    }
   ],
   "source": [
    "w.make_guess('steam')"
   ]
  },
  {
   "cell_type": "code",
   "execution_count": 10,
   "id": "64615766",
   "metadata": {},
   "outputs": [
    {
     "name": "stdout",
     "output_type": "stream",
     "text": [
      "\n",
      "Guess: treat\n",
      "Confirmed Values: ['t', 'r', 'e', 'a', 't']\n",
      "Confirmed Letters Not in Word ['m', 's']\n",
      "Confirmed Letters In Word, Not At Position {}\n",
      "\n"
     ]
    },
    {
     "data": {
      "text/plain": [
       "(['t', 'r', 'e', 'a', 't'], ['m', 's'], {})"
      ]
     },
     "execution_count": 10,
     "metadata": {},
     "output_type": "execute_result"
    }
   ],
   "source": [
    "w.make_guess('treat')"
   ]
  },
  {
   "cell_type": "code",
   "execution_count": 11,
   "id": "62e48436",
   "metadata": {},
   "outputs": [],
   "source": [
    "class Corpus():\n",
    "    \n",
    "    def __init__(self, initial_corpus):\n",
    "        self.corpus = initial_corpus\n",
    "        \n",
    "    def remove_letter(self, letter):\n",
    "        self.corpus = [i for i in self.corpus if letter not in i]\n",
    "        \n",
    "    def filter_letter_correct_position(self, letter, position):\n",
    "        if letter != '':\n",
    "            self.corpus = [i for i in self.corpus if i[position] == letter]\n",
    "        \n",
    "    def filter_letter_incorrect_position(self, letter, position):\n",
    "        self.corpus = [i for i in self.corpus if letter in i and i[position] != letter]\n",
    "        \n",
    "    def generate_word(self):\n",
    "        return random.choice(self.corpus)"
   ]
  },
  {
   "cell_type": "markdown",
   "id": "15dbe725",
   "metadata": {},
   "source": [
    "## Play Wordle"
   ]
  },
  {
   "cell_type": "code",
   "execution_count": 12,
   "id": "478ad52e",
   "metadata": {},
   "outputs": [],
   "source": [
    "def play_wordle(corpus, n_guesses=6, print_results=True):\n",
    "    w = Wordle(random.choice(corpus))\n",
    "    c = Corpus(corpus)\n",
    "    success = False\n",
    "    for attempt in range(n_guesses):\n",
    "        guess = c.generate_word()\n",
    "        set_letters, disregarded_letters, letters_without_placements = w.make_guess(guess, print_results=print_results)\n",
    "        if list(guess) == w.answer:\n",
    "            success = True\n",
    "            break\n",
    "        for position, letter in enumerate(set_letters):\n",
    "            c.filter_letter_correct_position(letter, position)\n",
    "        for letter in letters_without_placements:\n",
    "            for position in letters_without_placements[letter]:\n",
    "                c.filter_letter_incorrect_position(letter, position)\n",
    "        for letter in disregarded_letters:\n",
    "            c.remove_letter(letter)\n",
    "    if success:\n",
    "        return success, attempt + 1\n",
    "    else:\n",
    "        return success,0"
   ]
  },
  {
   "cell_type": "code",
   "execution_count": 13,
   "id": "73fefc8b",
   "metadata": {},
   "outputs": [
    {
     "name": "stdout",
     "output_type": "stream",
     "text": [
      "\n",
      "Guess: point\n",
      "Confirmed Values: ['', '', '', '', '']\n",
      "Confirmed Letters Not in Word ['p', 'i', 'n', 't']\n",
      "Confirmed Letters In Word, Not At Position {'o': [1]}\n",
      "\n",
      "\n",
      "Guess: broke\n",
      "Confirmed Values: ['b', 'r', 'o', '', '']\n",
      "Confirmed Letters Not in Word ['p', 'i', 'n', 't', 'k', 'e']\n",
      "Confirmed Letters In Word, Not At Position {}\n",
      "\n",
      "\n",
      "Guess: brood\n",
      "Confirmed Values: ['b', 'r', 'o', '', 'd']\n",
      "Confirmed Letters Not in Word ['p', 'i', 'n', 't', 'k', 'e']\n",
      "Confirmed Letters In Word, Not At Position {}\n",
      "\n",
      "\n",
      "Guess: brood\n",
      "Confirmed Values: ['b', 'r', 'o', '', 'd']\n",
      "Confirmed Letters Not in Word ['p', 'i', 'n', 't', 'k', 'e']\n",
      "Confirmed Letters In Word, Not At Position {}\n",
      "\n",
      "\n",
      "Guess: broad\n",
      "Confirmed Values: ['b', 'r', 'o', 'a', 'd']\n",
      "Confirmed Letters Not in Word ['p', 'i', 'n', 't', 'k', 'e']\n",
      "Confirmed Letters In Word, Not At Position {}\n",
      "\n"
     ]
    },
    {
     "data": {
      "text/plain": [
       "(True, 5)"
      ]
     },
     "execution_count": 13,
     "metadata": {},
     "output_type": "execute_result"
    }
   ],
   "source": [
    "play_wordle(five_letter_words)"
   ]
  },
  {
   "cell_type": "code",
   "execution_count": 14,
   "id": "694a5e62",
   "metadata": {},
   "outputs": [],
   "source": [
    "all_success = []\n",
    "all_tries = []\n",
    "for guess in range(10000):\n",
    "    success, n_tries = play_wordle(five_letter_words, n_guesses=6, print_results=False)\n",
    "    all_success.append(success)\n",
    "    all_tries.append(n_tries)"
   ]
  },
  {
   "cell_type": "code",
   "execution_count": 15,
   "id": "83cdcd6c",
   "metadata": {},
   "outputs": [
    {
     "data": {
      "text/plain": [
       "0.9847"
      ]
     },
     "execution_count": 15,
     "metadata": {},
     "output_type": "execute_result"
    }
   ],
   "source": [
    "np.sum(all_success) / len(all_success)"
   ]
  },
  {
   "cell_type": "code",
   "execution_count": 16,
   "id": "d93a2207",
   "metadata": {},
   "outputs": [
    {
     "data": {
      "text/plain": [
       "<BarContainer object of 6 artists>"
      ]
     },
     "execution_count": 16,
     "metadata": {},
     "output_type": "execute_result"
    },
    {
     "data": {
      "image/png": "[encoded data removed]",
      "text/plain": [
       "<Figure size 432x288 with 1 Axes>"
      ]
     },
     "metadata": {
      "needs_background": "light"
     },
     "output_type": "display_data"
    }
   ],
   "source": [
    "count, frequency = np.unique([i for i in all_tries if i > 0], return_counts=True)\n",
    "plt.bar(count, frequency / sum(frequency))"
   ]
  },
  {
   "cell_type": "code",
   "execution_count": 17,
   "id": "a2eeadd2",
   "metadata": {},
   "outputs": [
    {
     "data": {
      "text/plain": [
       "3.739717680511831"
      ]
     },
     "execution_count": 17,
     "metadata": {},
     "output_type": "execute_result"
    }
   ],
   "source": [
    "np.mean([i for i in all_tries if i > 0])"
   ]
  },
  {
   "cell_type": "markdown",
   "id": "1edda447",
   "metadata": {},
   "source": [
    "## Play Wordle With Initial Guess"
   ]
  },
  {
   "cell_type": "code",
   "execution_count": 18,
   "id": "943830f7",
   "metadata": {},
   "outputs": [],
   "source": [
    "def play_wordle_initial_guess(corpus, initial_guess, n_guesses=6, print_results=True):\n",
    "    w = Wordle(random.choice(corpus))\n",
    "    c = Corpus(corpus)\n",
    "    success = False\n",
    "    num_eliminated = 0\n",
    "    for attempt in range(n_guesses):\n",
    "        if attempt == 0:\n",
    "            guess = initial_guess\n",
    "        else:\n",
    "            guess = c.generate_word()\n",
    "        set_letters, disregarded_letters, letters_without_placements = w.make_guess(guess, print_results=print_results)\n",
    "        if list(guess) == w.answer:\n",
    "            success = True\n",
    "            break\n",
    "        for position, letter in enumerate(set_letters):\n",
    "            c.filter_letter_correct_position(letter, position)\n",
    "        for letter in letters_without_placements:\n",
    "            for position in letters_without_placements[letter]:\n",
    "                c.filter_letter_incorrect_position(letter, position)\n",
    "        for letter in disregarded_letters:\n",
    "            c.remove_letter(letter)\n",
    "        if attempt == 0:\n",
    "            num_eliminated = len(corpus) - len(c.corpus)\n",
    "    if success:\n",
    "        return success, attempt + 1, num_eliminated\n",
    "    else:\n",
    "        return success, 0, num_eliminated"
   ]
  },
  {
   "cell_type": "code",
   "execution_count": 19,
   "id": "53ba6b96",
   "metadata": {},
   "outputs": [
    {
     "name": "stdout",
     "output_type": "stream",
     "text": [
      "\n",
      "Guess: steam\n",
      "Confirmed Values: ['', '', '', '', '']\n",
      "Confirmed Letters Not in Word ['s', 'a']\n",
      "Confirmed Letters In Word, Not At Position {'t': [1], 'e': [2], 'm': [4]}\n",
      "\n",
      "\n",
      "Guess: motel\n",
      "Confirmed Values: ['m', '', 't', 'e', '']\n",
      "Confirmed Letters Not in Word ['s', 'a', 'o', 'l']\n",
      "Confirmed Letters In Word, Not At Position {}\n",
      "\n",
      "\n",
      "Guess: meter\n",
      "Confirmed Values: ['m', 'e', 't', 'e', 'r']\n",
      "Confirmed Letters Not in Word ['s', 'a', 'o', 'l']\n",
      "Confirmed Letters In Word, Not At Position {}\n",
      "\n"
     ]
    },
    {
     "data": {
      "text/plain": [
       "(True, 3, 1115)"
      ]
     },
     "execution_count": 19,
     "metadata": {},
     "output_type": "execute_result"
    }
   ],
   "source": [
    "play_wordle_initial_guess(five_letter_words, 'steam')"
   ]
  },
  {
   "cell_type": "markdown",
   "id": "f24a8a66",
   "metadata": {},
   "source": [
    "### Different Words as First Guesses"
   ]
  },
  {
   "cell_type": "code",
   "execution_count": 20,
   "id": "71a4fda7",
   "metadata": {},
   "outputs": [],
   "source": [
    "all_success = []\n",
    "all_attempts = []\n",
    "all_num_eliminated = []\n",
    "for position, word in enumerate(five_letter_words):\n",
    "    total_success = []\n",
    "    total_attempts = []\n",
    "    total_num_eliminated = []\n",
    "    for i in range(1000):\n",
    "        success, n_tries, num_eliminated = play_wordle_initial_guess(five_letter_words, initial_guess=word, n_guesses=6, print_results=False)\n",
    "        total_success.append(success)\n",
    "        total_attempts.append(n_tries)\n",
    "        total_num_eliminated.append(num_eliminated)\n",
    "    all_success.append(np.mean(total_success))\n",
    "    all_attempts.append(np.sum([i for i in total_attempts if i > 0]))\n",
    "    all_num_eliminated.append(np.mean(total_num_eliminated))"
   ]
  },
  {
   "cell_type": "code",
   "execution_count": 21,
   "id": "0c47c6bb",
   "metadata": {},
   "outputs": [],
   "source": [
    "df = pd.DataFrame()\n",
    "df['words'] = five_letter_words\n",
    "df['success'] = [i for i in all_success]\n",
    "df['pct_eliminated'] = [i/len(five_letter_words) for i in all_num_eliminated]\n",
    "df['n_attempts'] = [i for i in all_attempts] / (df['success'] * 1000)\n",
    "df['n_attempts_inverse'] = 6 - df['n_attempts']"
   ]
  },
  {
   "cell_type": "code",
   "execution_count": 22,
   "id": "5f3eae5f",
   "metadata": {},
   "outputs": [
    {
     "data": {
      "text/plain": [
       "0.9247975022301518"
      ]
     },
     "execution_count": 22,
     "metadata": {},
     "output_type": "execute_result"
    }
   ],
   "source": [
    "df['pct_eliminated'].median()"
   ]
  },
  {
   "cell_type": "code",
   "execution_count": 23,
   "id": "204303d9",
   "metadata": {},
   "outputs": [
    {
     "name": "stderr",
     "output_type": "stream",
     "text": [
      "/Users/evanagovino/miniconda3/lib/python3.8/site-packages/seaborn/_decorators.py:36: FutureWarning: Pass the following variable as a keyword arg: x. From version 0.12, the only valid positional argument will be `data`, and passing other arguments without an explicit keyword will result in an error or misinterpretation.\n",
      "  warnings.warn(\n"
     ]
    },
    {
     "data": {
      "text/plain": [
       "Text(0.5, 1.0, 'Percentage of Words Eliminated')"
      ]
     },
     "execution_count": 23,
     "metadata": {},
     "output_type": "execute_result"
    },
    {
     "data": {
      "image/png": "[encoded data removed]",
      "text/plain": [
       "<Figure size 720x720 with 1 Axes>"
      ]
     },
     "metadata": {
      "needs_background": "light"
     },
     "output_type": "display_data"
    }
   ],
   "source": [
    "plt.figure(figsize=(10,10))\n",
    "sns.boxplot(df['pct_eliminated'])\n",
    "plt.title('Percentage of Words Eliminated')"
   ]
  },
  {
   "cell_type": "code",
   "execution_count": 24,
   "id": "ce1ccedf",
   "metadata": {},
   "outputs": [
    {
     "data": {
      "text/plain": [
       "Text(0, 0.5, 'Number of Attemps')"
      ]
     },
     "execution_count": 24,
     "metadata": {},
     "output_type": "execute_result"
    },
    {
     "data": {
      "image/png": "[encoded data removed]",
      "text/plain": [
       "<Figure size 432x288 with 1 Axes>"
      ]
     },
     "metadata": {
      "needs_background": "light"
     },
     "output_type": "display_data"
    }
   ],
   "source": [
    "plt.scatter(np.power(df['pct_eliminated'], 10), df['n_attempts'])\n",
    "plt.title('Pct of Words Eliminated vs Number of Attempts to Succeed')\n",
    "plt.xlabel('Percentage of Words Eliminated')\n",
    "plt.ylabel('Number of Attemps')"
   ]
  },
  {
   "cell_type": "code",
   "execution_count": 25,
   "id": "df7a0602",
   "metadata": {},
   "outputs": [
    {
     "data": {
      "text/plain": [
       "Text(0, 0.5, 'Probability of Success')"
      ]
     },
     "execution_count": 25,
     "metadata": {},
     "output_type": "execute_result"
    },
    {
     "data": {
      "image/png": "[encoded data removed]",
      "text/plain": [
       "<Figure size 432x288 with 1 Axes>"
      ]
     },
     "metadata": {
      "needs_background": "light"
     },
     "output_type": "display_data"
    }
   ],
   "source": [
    "plt.scatter(np.power(df['pct_eliminated'], 10), np.power(df['success'], 2))\n",
    "plt.title('Pct of Words Eliminated vs Probability of Success')\n",
    "plt.xlabel('Percentage of Words Eliminated')\n",
    "plt.ylabel('Probability of Success')"
   ]
  },
  {
   "cell_type": "code",
   "execution_count": 26,
   "id": "64dd99ad",
   "metadata": {},
   "outputs": [
    {
     "data": {
      "text/html": [
       "<div>\n",
       "<style scoped>\n",
       "    .dataframe tbody tr th:only-of-type {\n",
       "        vertical-align: middle;\n",
       "    }\n",
       "\n",
       "    .dataframe tbody tr th {\n",
       "        vertical-align: top;\n",
       "    }\n",
       "\n",
       "    .dataframe thead th {\n",
       "        text-align: right;\n",
       "    }\n",
       "</style>\n",
       "<table border=\"1\" class=\"dataframe\">\n",
       "  <thead>\n",
       "    <tr style=\"text-align: right;\">\n",
       "      <th></th>\n",
       "      <th>words</th>\n",
       "      <th>success</th>\n",
       "      <th>pct_eliminated</th>\n",
       "      <th>n_attempts</th>\n",
       "      <th>n_attempts_inverse</th>\n",
       "    </tr>\n",
       "  </thead>\n",
       "  <tbody>\n",
       "    <tr>\n",
       "      <th>608</th>\n",
       "      <td>react</td>\n",
       "      <td>0.986</td>\n",
       "      <td>0.966215</td>\n",
       "      <td>3.454361</td>\n",
       "      <td>2.545639</td>\n",
       "    </tr>\n",
       "    <tr>\n",
       "      <th>930</th>\n",
       "      <td>slate</td>\n",
       "      <td>0.989</td>\n",
       "      <td>0.974001</td>\n",
       "      <td>3.463094</td>\n",
       "      <td>2.536906</td>\n",
       "    </tr>\n",
       "    <tr>\n",
       "      <th>522</th>\n",
       "      <td>tales</td>\n",
       "      <td>0.997</td>\n",
       "      <td>0.971442</td>\n",
       "      <td>3.472417</td>\n",
       "      <td>2.527583</td>\n",
       "    </tr>\n",
       "    <tr>\n",
       "      <th>115</th>\n",
       "      <td>trade</td>\n",
       "      <td>0.989</td>\n",
       "      <td>0.971996</td>\n",
       "      <td>3.479272</td>\n",
       "      <td>2.520728</td>\n",
       "    </tr>\n",
       "    <tr>\n",
       "      <th>93</th>\n",
       "      <td>tried</td>\n",
       "      <td>0.987</td>\n",
       "      <td>0.966397</td>\n",
       "      <td>3.483283</td>\n",
       "      <td>2.516717</td>\n",
       "    </tr>\n",
       "    <tr>\n",
       "      <th>302</th>\n",
       "      <td>trend</td>\n",
       "      <td>0.991</td>\n",
       "      <td>0.962104</td>\n",
       "      <td>3.491423</td>\n",
       "      <td>2.508577</td>\n",
       "    </tr>\n",
       "    <tr>\n",
       "      <th>838</th>\n",
       "      <td>beast</td>\n",
       "      <td>0.986</td>\n",
       "      <td>0.958075</td>\n",
       "      <td>3.491886</td>\n",
       "      <td>2.508114</td>\n",
       "    </tr>\n",
       "    <tr>\n",
       "      <th>927</th>\n",
       "      <td>laden</td>\n",
       "      <td>0.987</td>\n",
       "      <td>0.955616</td>\n",
       "      <td>3.498480</td>\n",
       "      <td>2.501520</td>\n",
       "    </tr>\n",
       "    <tr>\n",
       "      <th>465</th>\n",
       "      <td>trace</td>\n",
       "      <td>0.985</td>\n",
       "      <td>0.970484</td>\n",
       "      <td>3.500508</td>\n",
       "      <td>2.499492</td>\n",
       "    </tr>\n",
       "    <tr>\n",
       "      <th>43</th>\n",
       "      <td>least</td>\n",
       "      <td>0.989</td>\n",
       "      <td>0.969501</td>\n",
       "      <td>3.503539</td>\n",
       "      <td>2.496461</td>\n",
       "    </tr>\n",
       "  </tbody>\n",
       "</table>\n",
       "</div>"
      ],
      "text/plain": [
       "     words  success  pct_eliminated  n_attempts  n_attempts_inverse\n",
       "608  react    0.986        0.966215    3.454361            2.545639\n",
       "930  slate    0.989        0.974001    3.463094            2.536906\n",
       "522  tales    0.997        0.971442    3.472417            2.527583\n",
       "115  trade    0.989        0.971996    3.479272            2.520728\n",
       "93   tried    0.987        0.966397    3.483283            2.516717\n",
       "302  trend    0.991        0.962104    3.491423            2.508577\n",
       "838  beast    0.986        0.958075    3.491886            2.508114\n",
       "927  laden    0.987        0.955616    3.498480            2.501520\n",
       "465  trace    0.985        0.970484    3.500508            2.499492\n",
       "43   least    0.989        0.969501    3.503539            2.496461"
      ]
     },
     "execution_count": 26,
     "metadata": {},
     "output_type": "execute_result"
    }
   ],
   "source": [
    "df.sort_values('n_attempts', ascending=True).head(10)"
   ]
  },
  {
   "cell_type": "markdown",
   "id": "3c6d45e2",
   "metadata": {},
   "source": [
    "## Look at Vowels and Consonants"
   ]
  },
  {
   "cell_type": "code",
   "execution_count": 27,
   "id": "93665dbb",
   "metadata": {},
   "outputs": [],
   "source": [
    "df['vowels'] = df['words'].apply(lambda x: len([i for i in x if i in ['a','e','i','o','u']]))\n",
    "df['unique_vowels'] = df['words'].apply(lambda x: len(set([i for i in x if i in ['a','e','i','o','u']])))\n",
    "df['common_consonants'] = df['words'].apply(lambda x: len([i for i in x if i in ['r','t','s']]))\n",
    "df['unique_common_consonants'] = df['words'].apply(lambda x: len([i for i in x if i in ['r','t','s']]))"
   ]
  },
  {
   "cell_type": "code",
   "execution_count": 28,
   "id": "642b1ae5",
   "metadata": {},
   "outputs": [
    {
     "data": {
      "text/plain": [
       "Text(0, 0.5, 'Pct of Words')"
      ]
     },
     "execution_count": 28,
     "metadata": {},
     "output_type": "execute_result"
    },
    {
     "data": {
      "image/png": "[encoded data removed]",
      "text/plain": [
       "<Figure size 432x288 with 1 Axes>"
      ]
     },
     "metadata": {
      "needs_background": "light"
     },
     "output_type": "display_data"
    }
   ],
   "source": [
    "vowels = df['vowels'].value_counts(normalize=True).reset_index().sort_values('index')\n",
    "vowels.columns = ['vowel_count', 'pct_of_words']\n",
    "plt.bar(vowels['vowel_count'].astype('str'), vowels['pct_of_words'])\n",
    "plt.title('Count of Vowels')\n",
    "plt.xlabel('Number of Vowels')\n",
    "plt.ylabel('Pct of Words')"
   ]
  },
  {
   "cell_type": "code",
   "execution_count": 29,
   "id": "5be6caed",
   "metadata": {},
   "outputs": [
    {
     "data": {
      "text/plain": [
       "Text(0, 0.5, 'Pct of Words')"
      ]
     },
     "execution_count": 29,
     "metadata": {},
     "output_type": "execute_result"
    },
    {
     "data": {
      "image/png": "[encoded data removed]",
      "text/plain": [
       "<Figure size 432x288 with 1 Axes>"
      ]
     },
     "metadata": {
      "needs_background": "light"
     },
     "output_type": "display_data"
    }
   ],
   "source": [
    "vowels = df['unique_vowels'].value_counts(normalize=True).reset_index().sort_values('index')\n",
    "vowels.columns = ['vowel_count', 'pct_of_words']\n",
    "plt.bar(vowels['vowel_count'].astype('str'), vowels['pct_of_words'])\n",
    "plt.title('Count of Unique Vowels')\n",
    "plt.xlabel('Number of Unique Vowels')\n",
    "plt.ylabel('Pct of Words')"
   ]
  },
  {
   "cell_type": "code",
   "execution_count": 30,
   "id": "5bf23f5d",
   "metadata": {},
   "outputs": [
    {
     "data": {
      "text/plain": [
       "Text(0.5, 1.0, 'Frequency of Letters')"
      ]
     },
     "execution_count": 30,
     "metadata": {},
     "output_type": "execute_result"
    },
    {
     "data": {
      "image/png": "[encoded data removed]",
      "text/plain": [
       "<Figure size 720x720 with 1 Axes>"
      ]
     },
     "metadata": {
      "needs_background": "light"
     },
     "output_type": "display_data"
    }
   ],
   "source": [
    "letter_count = pd.DataFrame()\n",
    "letter_count['letters'] = list(string.ascii_lowercase)\n",
    "letter_count['letter_count'] = letter_count['letters'].apply(lambda x: len([j for j in five_letter_words if x in j]))\n",
    "letter_count = letter_count.sort_values('letter_count', ascending=False)\n",
    "plt.figure(figsize=(10,10))\n",
    "plt.bar(letter_count['letters'], letter_count['letter_count'] / len(five_letter_words))\n",
    "plt.ylabel('Pct of Words')\n",
    "plt.title('Frequency of Letters')"
   ]
  },
  {
   "cell_type": "code",
   "execution_count": 31,
   "id": "80948940",
   "metadata": {},
   "outputs": [
    {
     "data": {
      "text/html": [
       "<style type=\"text/css\">\n",
       "#T_3ba10_row0_col0 {\n",
       "  background-color: #94c4df;\n",
       "  color: #000000;\n",
       "}\n",
       "#T_3ba10_row0_col1, #T_3ba10_row3_col0 {\n",
       "  background-color: #f5fafe;\n",
       "  color: #000000;\n",
       "}\n",
       "#T_3ba10_row0_col2 {\n",
       "  background-color: #c6dbef;\n",
       "  color: #000000;\n",
       "}\n",
       "#T_3ba10_row1_col0 {\n",
       "  background-color: #82bbdb;\n",
       "  color: #000000;\n",
       "}\n",
       "#T_3ba10_row1_col1 {\n",
       "  background-color: #56a0ce;\n",
       "  color: #f1f1f1;\n",
       "}\n",
       "#T_3ba10_row1_col2 {\n",
       "  background-color: #539ecd;\n",
       "  color: #f1f1f1;\n",
       "}\n",
       "#T_3ba10_row2_col0, #T_3ba10_row3_col1, #T_3ba10_row3_col2 {\n",
       "  background-color: #f7fbff;\n",
       "  color: #000000;\n",
       "}\n",
       "#T_3ba10_row2_col1 {\n",
       "  background-color: #1c6ab0;\n",
       "  color: #f1f1f1;\n",
       "}\n",
       "#T_3ba10_row2_col2 {\n",
       "  background-color: #4493c7;\n",
       "  color: #f1f1f1;\n",
       "}\n",
       "#T_3ba10_row4_col0 {\n",
       "  background-color: #1b69af;\n",
       "  color: #f1f1f1;\n",
       "}\n",
       "#T_3ba10_row4_col1 {\n",
       "  background-color: #68acd5;\n",
       "  color: #f1f1f1;\n",
       "}\n",
       "#T_3ba10_row4_col2 {\n",
       "  background-color: #60a7d2;\n",
       "  color: #f1f1f1;\n",
       "}\n",
       "#T_3ba10_row5_col0, #T_3ba10_row9_col1, #T_3ba10_row9_col2 {\n",
       "  background-color: #08306b;\n",
       "  color: #f1f1f1;\n",
       "}\n",
       "#T_3ba10_row5_col1 {\n",
       "  background-color: #1460a8;\n",
       "  color: #f1f1f1;\n",
       "}\n",
       "#T_3ba10_row5_col2, #T_3ba10_row11_col1 {\n",
       "  background-color: #105ba4;\n",
       "  color: #f1f1f1;\n",
       "}\n",
       "#T_3ba10_row6_col0 {\n",
       "  background-color: #cbdef1;\n",
       "  color: #000000;\n",
       "}\n",
       "#T_3ba10_row6_col1 {\n",
       "  background-color: #084b93;\n",
       "  color: #f1f1f1;\n",
       "}\n",
       "#T_3ba10_row6_col2 {\n",
       "  background-color: #08509b;\n",
       "  color: #f1f1f1;\n",
       "}\n",
       "#T_3ba10_row7_col0 {\n",
       "  background-color: #2c7cba;\n",
       "  color: #f1f1f1;\n",
       "}\n",
       "#T_3ba10_row7_col1 {\n",
       "  background-color: #4090c5;\n",
       "  color: #f1f1f1;\n",
       "}\n",
       "#T_3ba10_row7_col2 {\n",
       "  background-color: #3e8ec4;\n",
       "  color: #f1f1f1;\n",
       "}\n",
       "#T_3ba10_row8_col0 {\n",
       "  background-color: #1561a9;\n",
       "  color: #f1f1f1;\n",
       "}\n",
       "#T_3ba10_row8_col1 {\n",
       "  background-color: #084e98;\n",
       "  color: #f1f1f1;\n",
       "}\n",
       "#T_3ba10_row8_col2 {\n",
       "  background-color: #083a7a;\n",
       "  color: #f1f1f1;\n",
       "}\n",
       "#T_3ba10_row9_col0 {\n",
       "  background-color: #79b5d9;\n",
       "  color: #000000;\n",
       "}\n",
       "#T_3ba10_row10_col0 {\n",
       "  background-color: #083d7f;\n",
       "  color: #f1f1f1;\n",
       "}\n",
       "#T_3ba10_row10_col1 {\n",
       "  background-color: #1e6db2;\n",
       "  color: #f1f1f1;\n",
       "}\n",
       "#T_3ba10_row10_col2 {\n",
       "  background-color: #125da6;\n",
       "  color: #f1f1f1;\n",
       "}\n",
       "#T_3ba10_row11_col0 {\n",
       "  background-color: #dfecf7;\n",
       "  color: #000000;\n",
       "}\n",
       "#T_3ba10_row11_col2 {\n",
       "  background-color: #2f7fbc;\n",
       "  color: #f1f1f1;\n",
       "}\n",
       "#T_3ba10_row12_col0 {\n",
       "  background-color: #b2d2e8;\n",
       "  color: #000000;\n",
       "}\n",
       "#T_3ba10_row12_col1 {\n",
       "  background-color: #1d6cb1;\n",
       "  color: #f1f1f1;\n",
       "}\n",
       "#T_3ba10_row12_col2 {\n",
       "  background-color: #3b8bc2;\n",
       "  color: #f1f1f1;\n",
       "}\n",
       "</style>\n",
       "<table id=\"T_3ba10_\">\n",
       "  <thead>\n",
       "    <tr>\n",
       "      <th class=\"blank\" >&nbsp;</th>\n",
       "      <th class=\"blank level0\" >&nbsp;</th>\n",
       "      <th class=\"col_heading level0 col0\" >success</th>\n",
       "      <th class=\"col_heading level0 col1\" >pct_eliminated</th>\n",
       "      <th class=\"col_heading level0 col2\" >n_attempts_inverse</th>\n",
       "    </tr>\n",
       "    <tr>\n",
       "      <th class=\"index_name level0\" >unique_common_consonants</th>\n",
       "      <th class=\"index_name level1\" >unique_vowels</th>\n",
       "      <th class=\"blank col0\" >&nbsp;</th>\n",
       "      <th class=\"blank col1\" >&nbsp;</th>\n",
       "      <th class=\"blank col2\" >&nbsp;</th>\n",
       "    </tr>\n",
       "  </thead>\n",
       "  <tbody>\n",
       "    <tr>\n",
       "      <th id=\"T_3ba10_level0_row0\" class=\"row_heading level0 row0\" rowspan=\"3\">0</th>\n",
       "      <th id=\"T_3ba10_level1_row0\" class=\"row_heading level1 row0\" >1</th>\n",
       "      <td id=\"T_3ba10_row0_col0\" class=\"data row0 col0\" >0.985289</td>\n",
       "      <td id=\"T_3ba10_row0_col1\" class=\"data row0 col1\" >0.831197</td>\n",
       "      <td id=\"T_3ba10_row0_col2\" class=\"data row0 col2\" >2.123395</td>\n",
       "    </tr>\n",
       "    <tr>\n",
       "      <th id=\"T_3ba10_level1_row1\" class=\"row_heading level1 row1\" >2</th>\n",
       "      <td id=\"T_3ba10_row1_col0\" class=\"data row1 col0\" >0.985423</td>\n",
       "      <td id=\"T_3ba10_row1_col1\" class=\"data row1 col1\" >0.904006</td>\n",
       "      <td id=\"T_3ba10_row1_col2\" class=\"data row1 col2\" >2.228448</td>\n",
       "    </tr>\n",
       "    <tr>\n",
       "      <th id=\"T_3ba10_level1_row2\" class=\"row_heading level1 row2\" >3</th>\n",
       "      <td id=\"T_3ba10_row2_col0\" class=\"data row2 col0\" >0.983967</td>\n",
       "      <td id=\"T_3ba10_row2_col1\" class=\"data row2 col1\" >0.931112</td>\n",
       "      <td id=\"T_3ba10_row2_col2\" class=\"data row2 col2\" >2.243888</td>\n",
       "    </tr>\n",
       "    <tr>\n",
       "      <th id=\"T_3ba10_level0_row3\" class=\"row_heading level0 row3\" rowspan=\"4\">1</th>\n",
       "      <th id=\"T_3ba10_level1_row3\" class=\"row_heading level1 row3\" >0</th>\n",
       "      <td id=\"T_3ba10_row3_col0\" class=\"data row3 col0\" >0.984000</td>\n",
       "      <td id=\"T_3ba10_row3_col1\" class=\"data row3 col1\" >0.830064</td>\n",
       "      <td id=\"T_3ba10_row3_col2\" class=\"data row3 col2\" >2.042177</td>\n",
       "    </tr>\n",
       "    <tr>\n",
       "      <th id=\"T_3ba10_level1_row4\" class=\"row_heading level1 row4\" >1</th>\n",
       "      <td id=\"T_3ba10_row4_col0\" class=\"data row4 col0\" >0.986539</td>\n",
       "      <td id=\"T_3ba10_row4_col1\" class=\"data row4 col1\" >0.896791</td>\n",
       "      <td id=\"T_3ba10_row4_col2\" class=\"data row4 col2\" >2.215754</td>\n",
       "    </tr>\n",
       "    <tr>\n",
       "      <th id=\"T_3ba10_level1_row5\" class=\"row_heading level1 row5\" >2</th>\n",
       "      <td id=\"T_3ba10_row5_col0\" class=\"data row5 col0\" >0.987262</td>\n",
       "      <td id=\"T_3ba10_row5_col1\" class=\"data row5 col1\" >0.936503</td>\n",
       "      <td id=\"T_3ba10_row5_col2\" class=\"data row5 col2\" >2.313352</td>\n",
       "    </tr>\n",
       "    <tr>\n",
       "      <th id=\"T_3ba10_level1_row6\" class=\"row_heading level1 row6\" >3</th>\n",
       "      <td id=\"T_3ba10_row6_col0\" class=\"data row6 col0\" >0.984708</td>\n",
       "      <td id=\"T_3ba10_row6_col1\" class=\"data row6 col1\" >0.947158</td>\n",
       "      <td id=\"T_3ba10_row6_col2\" class=\"data row6 col2\" >2.327057</td>\n",
       "    </tr>\n",
       "    <tr>\n",
       "      <th id=\"T_3ba10_level0_row7\" class=\"row_heading level0 row7\" rowspan=\"3\">2</th>\n",
       "      <th id=\"T_3ba10_level1_row7\" class=\"row_heading level1 row7\" >1</th>\n",
       "      <td id=\"T_3ba10_row7_col0\" class=\"data row7 col0\" >0.986306</td>\n",
       "      <td id=\"T_3ba10_row7_col1\" class=\"data row7 col1\" >0.912336</td>\n",
       "      <td id=\"T_3ba10_row7_col2\" class=\"data row7 col2\" >2.250190</td>\n",
       "    </tr>\n",
       "    <tr>\n",
       "      <th id=\"T_3ba10_level1_row8\" class=\"row_heading level1 row8\" >2</th>\n",
       "      <td id=\"T_3ba10_row8_col0\" class=\"data row8 col0\" >0.986642</td>\n",
       "      <td id=\"T_3ba10_row8_col1\" class=\"data row8 col1\" >0.945727</td>\n",
       "      <td id=\"T_3ba10_row8_col2\" class=\"data row8 col2\" >2.354258</td>\n",
       "    </tr>\n",
       "    <tr>\n",
       "      <th id=\"T_3ba10_level1_row9\" class=\"row_heading level1 row9\" >3</th>\n",
       "      <td id=\"T_3ba10_row9_col0\" class=\"data row9 col0\" >0.985500</td>\n",
       "      <td id=\"T_3ba10_row9_col1\" class=\"data row9 col1\" >0.960639</td>\n",
       "      <td id=\"T_3ba10_row9_col2\" class=\"data row9 col2\" >2.366971</td>\n",
       "    </tr>\n",
       "    <tr>\n",
       "      <th id=\"T_3ba10_level0_row10\" class=\"row_heading level0 row10\" rowspan=\"2\">3</th>\n",
       "      <th id=\"T_3ba10_level1_row10\" class=\"row_heading level1 row10\" >1</th>\n",
       "      <td id=\"T_3ba10_row10_col0\" class=\"data row10 col0\" >0.987083</td>\n",
       "      <td id=\"T_3ba10_row10_col1\" class=\"data row10 col1\" >0.929992</td>\n",
       "      <td id=\"T_3ba10_row10_col2\" class=\"data row10 col2\" >2.310249</td>\n",
       "    </tr>\n",
       "    <tr>\n",
       "      <th id=\"T_3ba10_level1_row11\" class=\"row_heading level1 row11\" >2</th>\n",
       "      <td id=\"T_3ba10_row11_col0\" class=\"data row11 col0\" >0.984357</td>\n",
       "      <td id=\"T_3ba10_row11_col1\" class=\"data row11 col1\" >0.938909</td>\n",
       "      <td id=\"T_3ba10_row11_col2\" class=\"data row11 col2\" >2.268983</td>\n",
       "    </tr>\n",
       "    <tr>\n",
       "      <th id=\"T_3ba10_level0_row12\" class=\"row_heading level0 row12\" >4</th>\n",
       "      <th id=\"T_3ba10_level1_row12\" class=\"row_heading level1 row12\" >1</th>\n",
       "      <td id=\"T_3ba10_row12_col0\" class=\"data row12 col0\" >0.985000</td>\n",
       "      <td id=\"T_3ba10_row12_col1\" class=\"data row12 col1\" >0.930488</td>\n",
       "      <td id=\"T_3ba10_row12_col2\" class=\"data row12 col2\" >2.253203</td>\n",
       "    </tr>\n",
       "  </tbody>\n",
       "</table>\n"
      ],
      "text/plain": [
       "<pandas.io.formats.style.Styler at 0x169d13c40>"
      ]
     },
     "execution_count": 31,
     "metadata": {},
     "output_type": "execute_result"
    }
   ],
   "source": [
    "results = df.groupby(['unique_common_consonants', 'unique_vowels'])[['success', 'pct_eliminated', 'n_attempts_inverse']].mean()\n",
    "results.style.background_gradient(cmap='Blues')"
   ]
  },
  {
   "cell_type": "code",
   "execution_count": 32,
   "id": "1ec2b1b8",
   "metadata": {},
   "outputs": [
    {
     "data": {
      "text/html": [
       "<div>\n",
       "<style scoped>\n",
       "    .dataframe tbody tr th:only-of-type {\n",
       "        vertical-align: middle;\n",
       "    }\n",
       "\n",
       "    .dataframe tbody tr th {\n",
       "        vertical-align: top;\n",
       "    }\n",
       "\n",
       "    .dataframe thead th {\n",
       "        text-align: right;\n",
       "    }\n",
       "</style>\n",
       "<table border=\"1\" class=\"dataframe\">\n",
       "  <thead>\n",
       "    <tr style=\"text-align: right;\">\n",
       "      <th></th>\n",
       "      <th>words</th>\n",
       "      <th>success</th>\n",
       "      <th>pct_eliminated</th>\n",
       "      <th>n_attempts</th>\n",
       "      <th>n_attempts_inverse</th>\n",
       "      <th>vowels</th>\n",
       "      <th>unique_vowels</th>\n",
       "      <th>common_consonants</th>\n",
       "      <th>unique_common_consonants</th>\n",
       "    </tr>\n",
       "  </thead>\n",
       "  <tbody>\n",
       "    <tr>\n",
       "      <th>608</th>\n",
       "      <td>react</td>\n",
       "      <td>0.986</td>\n",
       "      <td>0.966215</td>\n",
       "      <td>3.454361</td>\n",
       "      <td>2.545639</td>\n",
       "      <td>2</td>\n",
       "      <td>2</td>\n",
       "      <td>2</td>\n",
       "      <td>2</td>\n",
       "    </tr>\n",
       "    <tr>\n",
       "      <th>930</th>\n",
       "      <td>slate</td>\n",
       "      <td>0.989</td>\n",
       "      <td>0.974001</td>\n",
       "      <td>3.463094</td>\n",
       "      <td>2.536906</td>\n",
       "      <td>2</td>\n",
       "      <td>2</td>\n",
       "      <td>2</td>\n",
       "      <td>2</td>\n",
       "    </tr>\n",
       "    <tr>\n",
       "      <th>522</th>\n",
       "      <td>tales</td>\n",
       "      <td>0.997</td>\n",
       "      <td>0.971442</td>\n",
       "      <td>3.472417</td>\n",
       "      <td>2.527583</td>\n",
       "      <td>2</td>\n",
       "      <td>2</td>\n",
       "      <td>2</td>\n",
       "      <td>2</td>\n",
       "    </tr>\n",
       "    <tr>\n",
       "      <th>115</th>\n",
       "      <td>trade</td>\n",
       "      <td>0.989</td>\n",
       "      <td>0.971996</td>\n",
       "      <td>3.479272</td>\n",
       "      <td>2.520728</td>\n",
       "      <td>2</td>\n",
       "      <td>2</td>\n",
       "      <td>2</td>\n",
       "      <td>2</td>\n",
       "    </tr>\n",
       "    <tr>\n",
       "      <th>93</th>\n",
       "      <td>tried</td>\n",
       "      <td>0.987</td>\n",
       "      <td>0.966397</td>\n",
       "      <td>3.483283</td>\n",
       "      <td>2.516717</td>\n",
       "      <td>2</td>\n",
       "      <td>2</td>\n",
       "      <td>2</td>\n",
       "      <td>2</td>\n",
       "    </tr>\n",
       "    <tr>\n",
       "      <th>838</th>\n",
       "      <td>beast</td>\n",
       "      <td>0.986</td>\n",
       "      <td>0.958075</td>\n",
       "      <td>3.491886</td>\n",
       "      <td>2.508114</td>\n",
       "      <td>2</td>\n",
       "      <td>2</td>\n",
       "      <td>2</td>\n",
       "      <td>2</td>\n",
       "    </tr>\n",
       "    <tr>\n",
       "      <th>465</th>\n",
       "      <td>trace</td>\n",
       "      <td>0.985</td>\n",
       "      <td>0.970484</td>\n",
       "      <td>3.500508</td>\n",
       "      <td>2.499492</td>\n",
       "      <td>2</td>\n",
       "      <td>2</td>\n",
       "      <td>2</td>\n",
       "      <td>2</td>\n",
       "    </tr>\n",
       "    <tr>\n",
       "      <th>43</th>\n",
       "      <td>least</td>\n",
       "      <td>0.989</td>\n",
       "      <td>0.969501</td>\n",
       "      <td>3.503539</td>\n",
       "      <td>2.496461</td>\n",
       "      <td>2</td>\n",
       "      <td>2</td>\n",
       "      <td>2</td>\n",
       "      <td>2</td>\n",
       "    </tr>\n",
       "    <tr>\n",
       "      <th>938</th>\n",
       "      <td>steal</td>\n",
       "      <td>0.992</td>\n",
       "      <td>0.964575</td>\n",
       "      <td>3.507056</td>\n",
       "      <td>2.492944</td>\n",
       "      <td>2</td>\n",
       "      <td>2</td>\n",
       "      <td>2</td>\n",
       "      <td>2</td>\n",
       "    </tr>\n",
       "    <tr>\n",
       "      <th>756</th>\n",
       "      <td>rated</td>\n",
       "      <td>0.988</td>\n",
       "      <td>0.967384</td>\n",
       "      <td>3.509109</td>\n",
       "      <td>2.490891</td>\n",
       "      <td>2</td>\n",
       "      <td>2</td>\n",
       "      <td>2</td>\n",
       "      <td>2</td>\n",
       "    </tr>\n",
       "  </tbody>\n",
       "</table>\n",
       "</div>"
      ],
      "text/plain": [
       "     words  success  pct_eliminated  n_attempts  n_attempts_inverse  vowels  \\\n",
       "608  react    0.986        0.966215    3.454361            2.545639       2   \n",
       "930  slate    0.989        0.974001    3.463094            2.536906       2   \n",
       "522  tales    0.997        0.971442    3.472417            2.527583       2   \n",
       "115  trade    0.989        0.971996    3.479272            2.520728       2   \n",
       "93   tried    0.987        0.966397    3.483283            2.516717       2   \n",
       "838  beast    0.986        0.958075    3.491886            2.508114       2   \n",
       "465  trace    0.985        0.970484    3.500508            2.499492       2   \n",
       "43   least    0.989        0.969501    3.503539            2.496461       2   \n",
       "938  steal    0.992        0.964575    3.507056            2.492944       2   \n",
       "756  rated    0.988        0.967384    3.509109            2.490891       2   \n",
       "\n",
       "     unique_vowels  common_consonants  unique_common_consonants  \n",
       "608              2                  2                         2  \n",
       "930              2                  2                         2  \n",
       "522              2                  2                         2  \n",
       "115              2                  2                         2  \n",
       "93               2                  2                         2  \n",
       "838              2                  2                         2  \n",
       "465              2                  2                         2  \n",
       "43               2                  2                         2  \n",
       "938              2                  2                         2  \n",
       "756              2                  2                         2  "
      ]
     },
     "execution_count": 32,
     "metadata": {},
     "output_type": "execute_result"
    }
   ],
   "source": [
    "df[(df['unique_common_consonants'] == 2) & (df['unique_vowels'] >= 2)].sort_values('n_attempts').head(10)"
   ]
  }
 ],
 "metadata": {
  "kernelspec": {
   "display_name": "Python 3 (ipykernel)",
   "language": "python",
   "name": "python3"
  },
  "language_info": {
   "codemirror_mode": {
    "name": "ipython",
    "version": 3
   },
   "file_extension": ".py",
   "mimetype": "text/x-python",
   "name": "python",
   "nbconvert_exporter": "python",
   "pygments_lexer": "ipython3",
   "version": "3.8.11"
  }
 },
 "nbformat": 4,
 "nbformat_minor": 5
}
